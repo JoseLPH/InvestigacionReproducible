{
 "cells": [
  {
   "cell_type": "markdown",
   "metadata": {},
   "source": [
    "## Open data"
   ]
  },
  {
   "cell_type": "markdown",
   "metadata": {},
   "source": [
    "El concepto de **open data** o `datos en abierto` hace referencia a una filosofía que busca hacer públicos conjuntos de datos, sin aplicar ningún tipo de restricción, incluyendo derechos de autor, patentes u otras formas de restricción. Puede entenderse como un paradigma similar al del software libre pero que está centrado sobre conjuntos de datos. "
   ]
  },
  {
   "cell_type": "markdown",
   "metadata": {
    "collapsed": true
   },
   "source": [
    "### Aspectos legales"
   ]
  },
  {
   "cell_type": "markdown",
   "metadata": {},
   "source": [
    "El movimiento **open data** surge, desde una perspectiva histórica, en la necesidad de aumentar la transparencia en las administraciones públicas.  Las leyes básicas que regulan este concepto son las siguientes:\n",
    "\n",
    "- Directiva 2013/37/UE del Parlamento Europeo y del Consejo, de 26 de junio de 2013, por la que se modifica la Directiva 2003/98/CE relativa a la reutilización de la información del sector público. [https://www.boe.es/diario_boe/txt.php?id=DOUE-L-2013-81251](https://www.boe.es/diario_boe/txt.php?id=DOUE-L-2013-81251)\n",
    "\n",
    "- Ley 19/2013, de 9 de diciembre, de transparencia, acceso a la información pública y buen gobierno. [https://www.boe.es/buscar/doc.php?id=BOE-A-2013-12887](https://www.boe.es/buscar/doc.php?id=BOE-A-2013-12887)\n",
    "\n",
    "- Ley 21/2014, de 4 de noviembre, por la que se modifica el texto refundido de la Ley de Propiedad Intelectual, aprobado por Real Decreto Legislativo 1/1996, de 12 de abril, y la Ley 1/2000, de 7 de enero, de Enjuiciamiento Civil. [https://www.boe.es/diario_boe/txt.php?id=BOE-A-2014-11404](https://www.boe.es/diario_boe/txt.php?id=BOE-A-2014-11404)\n",
    "\n",
    "- Ley 18/2015, de 9 de julio, por la que se modifica la Ley 37/2007, de 16 de noviembre, sobre reutilización de la información del sector público. [https://www.boe.es/diario_boe/txt.php?id=BOE-A-2015-7731](https://www.boe.es/diario_boe/txt.php?id=BOE-A-2015-7731)\n",
    "\n"
   ]
  },
  {
   "cell_type": "markdown",
   "metadata": {},
   "source": [
    "### Índices Open Data"
   ]
  },
  {
   "cell_type": "markdown",
   "metadata": {},
   "source": [
    "El **open data indicies** es un conjunto de indicadores que permiten valorar el grado de transparencia de un portal gubernamental de datos abiertos. Con carácter general, este índice proporciona información relativa a 11 aspectos incluidos en la definición de **open data**. \n",
    "De forma complementaria, el **open data barometer** añade dos índices adicionales."
   ]
  },
  {
   "cell_type": "markdown",
   "metadata": {
    "collapsed": true
   },
   "source": [
    "### Repositorios de Open Data"
   ]
  },
  {
   "cell_type": "markdown",
   "metadata": {},
   "source": [
    "La consolidación del paradigma Open Data está generando un gran crecimiento en el número de repositorios en los que los investigadores pueden tanto publicar sus datos como descargar datasets existentes. Este crecimiento del número de repositorios no ha ido acompañado, sin embargo, de una homogeneización en los procedimientos de búsqueda y localización tanto de repositorios como de datasets."
   ]
  },
  {
   "cell_type": "markdown",
   "metadata": {},
   "source": [
    "[https://public.opendatasoft.com](https://public.opendatasoft.com)"
   ]
  },
  {
   "cell_type": "code",
   "execution_count": null,
   "metadata": {
    "collapsed": true
   },
   "outputs": [],
   "source": []
  }
 ],
 "metadata": {
  "anaconda-cloud": {},
  "kernelspec": {
   "display_name": "Python 2",
   "language": "python",
   "name": "python2"
  },
  "language_info": {
   "codemirror_mode": {
    "name": "ipython",
    "version": 2
   },
   "file_extension": ".py",
   "mimetype": "text/x-python",
   "name": "python",
   "nbconvert_exporter": "python",
   "pygments_lexer": "ipython2",
   "version": "2.7.11"
  }
 },
 "nbformat": 4,
 "nbformat_minor": 1
}
