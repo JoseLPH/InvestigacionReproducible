{
 "cells": [
  {
   "cell_type": "markdown",
   "metadata": {},
   "source": [
    "# Estimación de la potencia a contratar a partir de las curvas de demanda"
   ]
  },
  {
   "cell_type": "markdown",
   "metadata": {},
   "source": [
    "Mario Mañana Canteli \n",
    "\n",
    "Dpto. de Ingeniería Eléctrica y Energética\n",
    "\n",
    "Universidad de Cantabria\n",
    "\n",
    "mananam@unican.es"
   ]
  },
  {
   "cell_type": "markdown",
   "metadata": {},
   "source": [
    "El objetivo de este documento es introducir las dificultades existentes para estimar el valor óptimo de potencia a contratar utilizando como información de referencia la proporcionada por la curva de demanda de energía con diferentes niveles de agregación.\n",
    "\n",
    "En este ejemplo se ha instalado un analizador de redes en un consumidor doméstico y se ha configurado para medir con una resolución de 2 medidas por minuto.\n",
    "\n",
    "El fragmento de la medida que se analiza en este documento es el que corresponde al funcionamiento de una cafetera italiana más una tostadora de pan."
   ]
  },
  {
   "cell_type": "markdown",
   "metadata": {},
   "source": [
    "Este documento se ha preparado utilizando Jupyter Notebook"
   ]
  },
  {
   "cell_type": "code",
   "execution_count": 121,
   "metadata": {},
   "outputs": [
    {
     "name": "stdout",
     "output_type": "stream",
     "text": [
      "2.7.11 |Anaconda 2.3.0 (32-bit)| (default, Mar  4 2016, 15:18:41) [MSC v.1500 32 bit (Intel)]\n"
     ]
    }
   ],
   "source": [
    "import sys\n",
    "print(sys.version)"
   ]
  },
  {
   "cell_type": "code",
   "execution_count": 122,
   "metadata": {
    "collapsed": true
   },
   "outputs": [],
   "source": [
    "import numpy as np\n",
    "import pandas as pd\n",
    "import matplotlib.pyplot as plt\n",
    "import matplotlib\n",
    "from datetime import datetime\n",
    "%matplotlib inline  "
   ]
  },
  {
   "cell_type": "markdown",
   "metadata": {},
   "source": [
    "El análisis se ha realizado utilizando un registro de medida de potencia con un periodo de muestreo $T_m=30$ s, que equivale a 2 muestras/minuto. \n",
    "\n",
    "Si se considera un intervalor de 1 hora, el número de muestras $N$ será"
   ]
  },
  {
   "cell_type": "code",
   "execution_count": 123,
   "metadata": {
    "collapsed": true
   },
   "outputs": [],
   "source": [
    "N=60*2"
   ]
  },
  {
   "cell_type": "markdown",
   "metadata": {},
   "source": [
    "## Carga y pre-procesado del fichero de datos"
   ]
  },
  {
   "cell_type": "code",
   "execution_count": 124,
   "metadata": {
    "collapsed": true
   },
   "outputs": [],
   "source": [
    "nombrefichero=\"cisneros_20140518_I_rev.csv\"\n",
    "data=[] \n",
    "datos = pd.read_csv(nombrefichero, sep=';')"
   ]
  },
  {
   "cell_type": "code",
   "execution_count": 125,
   "metadata": {},
   "outputs": [
    {
     "data": {
      "text/html": [
       "<div>\n",
       "<table border=\"1\" class=\"dataframe\">\n",
       "  <thead>\n",
       "    <tr style=\"text-align: right;\">\n",
       "      <th></th>\n",
       "      <th>Fecha</th>\n",
       "      <th>Hora</th>\n",
       "      <th>Pmedia</th>\n",
       "      <th>Energia</th>\n",
       "    </tr>\n",
       "  </thead>\n",
       "  <tbody>\n",
       "    <tr>\n",
       "      <th>0</th>\n",
       "      <td>11/05/2014</td>\n",
       "      <td>01:00:00</td>\n",
       "      <td>240.455</td>\n",
       "      <td>2.004</td>\n",
       "    </tr>\n",
       "    <tr>\n",
       "      <th>1</th>\n",
       "      <td>11/05/2014</td>\n",
       "      <td>01:00:30</td>\n",
       "      <td>236.534</td>\n",
       "      <td>1.971</td>\n",
       "    </tr>\n",
       "    <tr>\n",
       "      <th>2</th>\n",
       "      <td>11/05/2014</td>\n",
       "      <td>01:01:00</td>\n",
       "      <td>218.892</td>\n",
       "      <td>1.824</td>\n",
       "    </tr>\n",
       "    <tr>\n",
       "      <th>3</th>\n",
       "      <td>11/05/2014</td>\n",
       "      <td>01:01:30</td>\n",
       "      <td>218.892</td>\n",
       "      <td>1.824</td>\n",
       "    </tr>\n",
       "    <tr>\n",
       "      <th>4</th>\n",
       "      <td>11/05/2014</td>\n",
       "      <td>01:02:00</td>\n",
       "      <td>218.892</td>\n",
       "      <td>1.824</td>\n",
       "    </tr>\n",
       "  </tbody>\n",
       "</table>\n",
       "</div>"
      ],
      "text/plain": [
       "        Fecha      Hora   Pmedia  Energia\n",
       "0  11/05/2014  01:00:00  240.455    2.004\n",
       "1  11/05/2014  01:00:30  236.534    1.971\n",
       "2  11/05/2014  01:01:00  218.892    1.824\n",
       "3  11/05/2014  01:01:30  218.892    1.824\n",
       "4  11/05/2014  01:02:00  218.892    1.824"
      ]
     },
     "execution_count": 125,
     "metadata": {},
     "output_type": "execute_result"
    }
   ],
   "source": [
    "datos.head()"
   ]
  },
  {
   "cell_type": "markdown",
   "metadata": {},
   "source": [
    "El número de muestras del fichero es:"
   ]
  },
  {
   "cell_type": "code",
   "execution_count": 126,
   "metadata": {},
   "outputs": [
    {
     "data": {
      "text/plain": [
       "(22571, 4)"
      ]
     },
     "execution_count": 126,
     "metadata": {},
     "output_type": "execute_result"
    }
   ],
   "source": [
    "datos.shape"
   ]
  },
  {
   "cell_type": "code",
   "execution_count": 127,
   "metadata": {},
   "outputs": [
    {
     "data": {
      "text/html": [
       "<div>\n",
       "<table border=\"1\" class=\"dataframe\">\n",
       "  <thead>\n",
       "    <tr style=\"text-align: right;\">\n",
       "      <th></th>\n",
       "      <th>Fecha</th>\n",
       "      <th>Hora</th>\n",
       "      <th>Pmedia</th>\n",
       "      <th>Energia</th>\n",
       "      <th>FechaHora</th>\n",
       "    </tr>\n",
       "  </thead>\n",
       "  <tbody>\n",
       "    <tr>\n",
       "      <th>0</th>\n",
       "      <td>11/05/2014</td>\n",
       "      <td>01:00:00</td>\n",
       "      <td>240.455</td>\n",
       "      <td>2.004</td>\n",
       "      <td>2014-05-11 01:00:00</td>\n",
       "    </tr>\n",
       "    <tr>\n",
       "      <th>1</th>\n",
       "      <td>11/05/2014</td>\n",
       "      <td>01:00:30</td>\n",
       "      <td>236.534</td>\n",
       "      <td>1.971</td>\n",
       "      <td>2014-05-11 01:00:30</td>\n",
       "    </tr>\n",
       "    <tr>\n",
       "      <th>2</th>\n",
       "      <td>11/05/2014</td>\n",
       "      <td>01:01:00</td>\n",
       "      <td>218.892</td>\n",
       "      <td>1.824</td>\n",
       "      <td>2014-05-11 01:01:00</td>\n",
       "    </tr>\n",
       "    <tr>\n",
       "      <th>3</th>\n",
       "      <td>11/05/2014</td>\n",
       "      <td>01:01:30</td>\n",
       "      <td>218.892</td>\n",
       "      <td>1.824</td>\n",
       "      <td>2014-05-11 01:01:30</td>\n",
       "    </tr>\n",
       "    <tr>\n",
       "      <th>4</th>\n",
       "      <td>11/05/2014</td>\n",
       "      <td>01:02:00</td>\n",
       "      <td>218.892</td>\n",
       "      <td>1.824</td>\n",
       "      <td>2014-05-11 01:02:00</td>\n",
       "    </tr>\n",
       "  </tbody>\n",
       "</table>\n",
       "</div>"
      ],
      "text/plain": [
       "        Fecha      Hora   Pmedia  Energia           FechaHora\n",
       "0  11/05/2014  01:00:00  240.455    2.004 2014-05-11 01:00:00\n",
       "1  11/05/2014  01:00:30  236.534    1.971 2014-05-11 01:00:30\n",
       "2  11/05/2014  01:01:00  218.892    1.824 2014-05-11 01:01:00\n",
       "3  11/05/2014  01:01:30  218.892    1.824 2014-05-11 01:01:30\n",
       "4  11/05/2014  01:02:00  218.892    1.824 2014-05-11 01:02:00"
      ]
     },
     "execution_count": 127,
     "metadata": {},
     "output_type": "execute_result"
    }
   ],
   "source": [
    "fechas=datos.Fecha\n",
    "horas=datos.Hora\n",
    "Pmedia=datos.Pmedia\n",
    "Energia=datos.Energia\n",
    "FechaHora=[]\n",
    "\n",
    "for i,value in enumerate(fechas):\n",
    "    fecha=fechas[i]\n",
    "    hora=horas[i]\n",
    "    fechac = fecha + \" \" + hora\n",
    "    fechadt = datetime.strptime( fechac, '%d/%m/%Y %H:%M:%S')\n",
    "    FechaHora.append( fechadt)\n",
    "    \n",
    "datos['FechaHora']=FechaHora\n",
    "datos.head()"
   ]
  },
  {
   "cell_type": "markdown",
   "metadata": {},
   "source": [
    "## Gráfica de la potencia media considerando periodos de agregación de 30 s"
   ]
  },
  {
   "cell_type": "code",
   "execution_count": 128,
   "metadata": {},
   "outputs": [
    {
     "data": {
      "image/png": "[encoded data removed]",
      "text/plain": [
       "<matplotlib.figure.Figure at 0xe2818f0>"
      ]
     },
     "metadata": {},
     "output_type": "display_data"
    }
   ],
   "source": [
    "Ns=1000\n",
    "fig, ax = plt.subplots()\n",
    "\n",
    "ax.plot(datos.FechaHora.iloc[Ns:Ns+N].values,datos.Pmedia.iloc[Ns:Ns+N].values,label='Pmedia[30s]')\n",
    "ax.xaxis_date()\n",
    "fig.autofmt_xdate()\n",
    "plt.xlabel('tiempo')\n",
    "plt.ylabel('Potencia[W]')\n",
    "plt.legend()\n",
    "plt.show()"
   ]
  },
  {
   "cell_type": "markdown",
   "metadata": {},
   "source": [
    "La potencia pico es de"
   ]
  },
  {
   "cell_type": "code",
   "execution_count": 129,
   "metadata": {},
   "outputs": [
    {
     "name": "stdout",
     "output_type": "stream",
     "text": [
      "2542.415\n"
     ]
    }
   ],
   "source": [
    "print(max(datos.Pmedia.iloc[Ns:Ns+N].values))"
   ]
  },
  {
   "cell_type": "markdown",
   "metadata": {},
   "source": [
    "## Cálculo de la potencia media constante considerando un periodo de agregación de la energía de 1 hora"
   ]
  },
  {
   "cell_type": "markdown",
   "metadata": {},
   "source": [
    "La Energía demandada en un periodo T se calcula como\n",
    "\n",
    "$E = \\int_T P(t)dt$\n",
    "\n",
    "Si consideramos que la potencia $P[n]$ [W] permanece constante durante el intervalor de muestreo $T_m$ [s] entonces\n",
    "\n",
    "$E = \\frac{1}{ 3600} \\sum_{i=1}^{N} P[i] \\cdot T_m = \\sum_{i_1}^{N} E_i $ [Wh]"
   ]
  },
  {
   "cell_type": "code",
   "execution_count": 130,
   "metadata": {},
   "outputs": [
    {
     "name": "stdout",
     "output_type": "stream",
     "text": [
      "350.595\n"
     ]
    }
   ],
   "source": [
    "E=0.0\n",
    "for i in range(int(Ns), int(Ns+N)):\n",
    "    E=E+datos.Energia.iloc[i]\n",
    "\n",
    "print(E)\n",
    "Ea=E*np.ones(int(N))"
   ]
  },
  {
   "cell_type": "code",
   "execution_count": 131,
   "metadata": {},
   "outputs": [
    {
     "data": {
      "image/png": "[encoded data removed]",
      "text/plain": [
       "<matplotlib.figure.Figure at 0xe097670>"
      ]
     },
     "metadata": {},
     "output_type": "display_data"
    }
   ],
   "source": [
    "Ns=1000\n",
    "fig, ax = plt.subplots()\n",
    "\n",
    "ax.plot(datos.FechaHora.iloc[Ns:Ns+N].values,datos.Pmedia.iloc[Ns:Ns+N].values,label='Pmedia[30s]')\n",
    "ax.plot(datos.FechaHora.iloc[Ns:Ns+N].values,Ea,color='r',label='Pmedia[3600s]')\n",
    "ax.xaxis_date()\n",
    "fig.autofmt_xdate()\n",
    "plt.legend()\n",
    "plt.show()"
   ]
  },
  {
   "cell_type": "markdown",
   "metadata": {},
   "source": [
    "## Conclusiones"
   ]
  },
  {
   "cell_type": "markdown",
   "metadata": {},
   "source": [
    "Como puede observarse en este ejemplo, si se estima la potencia a partir de la energía consumida en un periodo de agregación largo es posible que se cometa un error importante de estimación, especialmente si se concentran consumos en periodos muy concretos de tiempo.\n",
    "\n",
    "Si se estimase la potencia pico con periodos de agregación de 1 hora la estimación sería de 350 W. Sin embargo, al incrementar la resolución a 2 muestras por minuto se observa que la potencia pico es de 2.542 W."
   ]
  }
 ],
 "metadata": {
  "kernelspec": {
   "display_name": "Python 2",
   "language": "python",
   "name": "python2"
  },
  "language_info": {
   "codemirror_mode": {
    "name": "ipython",
    "version": 2
   },
   "file_extension": ".py",
   "mimetype": "text/x-python",
   "name": "python",
   "nbconvert_exporter": "python",
   "pygments_lexer": "ipython2",
   "version": "2.7.11"
  }
 },
 "nbformat": 4,
 "nbformat_minor": 2
}
