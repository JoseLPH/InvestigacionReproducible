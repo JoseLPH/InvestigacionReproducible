{
 "cells": [
  {
   "cell_type": "markdown",
   "metadata": {},
   "source": [
    "# Compartir y gestionar documentos"
   ]
  },
  {
   "cell_type": "markdown",
   "metadata": {},
   "source": [
    "## Introducción"
   ]
  },
  {
   "cell_type": "markdown",
   "metadata": {},
   "source": [
    "Uno de los aspectos más importantes en la generación de documentos basados en el concepto de investigación reproducible es su gestión y compartición.\n",
    "La gestión de la documentación puede realizarse mediante herramientas de control de versiones, como Visual SourceSafe, BitKeeper o Git. Las diferencias entre unas y otras herramientas tiene relación con aspectos como el tipo de arquitectura: distribuida, local, etc. o el tipo de licencia: propietaria, open source.\n",
    "En este documento se realiza una introducción a Git, herramienta open source de carácter distribuido para el control de versiones y el trabajo colaborativo.\n"
   ]
  },
  {
   "cell_type": "markdown",
   "metadata": {},
   "source": [
    "**Git** (pronunciado \"guit\") es un sotware de control de versiones con una arquitectura definida en origen por Linus Torvalds como respuesta al cambio de licencia del software de control de versiones BitKeeper, utilizado en origen para el desarrollo del kernel de Linux. \n",
    "Entre las características más importantes de Git cabe destacar:\n",
    "\n",
    "* Soporte al desarrollo de código no lineal. Permite generar ramas de forma sencilla, así como combinarlas, realizar saltos entre versiones, etc.\n",
    "* Gestión distribuida. La filosofía de Git es proporcionar a cada usuario una copia local del historial completo del desarrollo. Los cambios se propagan entre los repositorios locales. \n",
    "* Gestión eficiente de grandes proyectos. El motor del sistema busca las diferencias entre ficheros y su funcionamiento está optimizado para este tipo de operaciones. Este características facilita la gestión eficiente de grandes proyectos.\n"
   ]
  },
  {
   "cell_type": "markdown",
   "metadata": {},
   "source": [
    "## Fundamentos de Git"
   ]
  },
  {
   "cell_type": "markdown",
   "metadata": {},
   "source": [
    "La diferencia principal entre Git y otros sistemas de control de versiones tiene que ver con la forma en la que Git gestiona los documentos del proyecto. La mayor parte de los sistemas de control de versiones se basan en la búsqueda de cambios o diferencias en los ficheros gestionados. Git no utiliza este planteamiento, sino que obtiene *fotos* del sistema de ficheros. Cada vez que el usuario realiza un *commit* Git obtiene una instantánea del sistema de ficheros.\n"
   ]
  },
  {
   "cell_type": "markdown",
   "metadata": {},
   "source": [
    "## Los tres estados de Git"
   ]
  },
  {
   "cell_type": "markdown",
   "metadata": {},
   "source": [
    "Entender cómo funciona Git consiste básicamente en entender que los ficheros gestionados por Git están en uno de los tres estados siguientes:\n",
    "\n",
    "* modified\n",
    "* staged\n",
    "* committed\n",
    "\n",
    "En la figura siguiente se muestra un esquema simplificado de los estados de un fichero en Git y los mecanismos para producir un cambio de estado."
   ]
  },
  {
   "cell_type": "code",
   "execution_count": 7,
   "metadata": {
    "collapsed": false
   },
   "outputs": [
    {
     "data": {
      "image/png": "[encoded data removed]",
      "text/plain": [
       "<IPython.core.display.Image object>"
      ]
     },
     "execution_count": 7,
     "metadata": {
      "image/png": {
       "width": 300
      }
     },
     "output_type": "execute_result"
    }
   ],
   "source": [
    "from IPython.display import Image\n",
    "Image(filename='./figuras/git_estados_01.png', width=300) "
   ]
  },
  {
   "cell_type": "code",
   "execution_count": null,
   "metadata": {
    "collapsed": true
   },
   "outputs": [],
   "source": []
  }
 ],
 "metadata": {
  "kernelspec": {
   "display_name": "Python 3",
   "language": "python",
   "name": "python3"
  },
  "language_info": {
   "codemirror_mode": {
    "name": "ipython",
    "version": 3
   },
   "file_extension": ".py",
   "mimetype": "text/x-python",
   "name": "python",
   "nbconvert_exporter": "python",
   "pygments_lexer": "ipython3",
   "version": "3.5.1"
  }
 },
 "nbformat": 4,
 "nbformat_minor": 0
}
