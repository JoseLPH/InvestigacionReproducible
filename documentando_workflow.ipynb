{
 "cells": [
  {
   "cell_type": "markdown",
   "metadata": {},
   "source": [
    "# Documentando un flujo de datos"
   ]
  },
  {
   "cell_type": "markdown",
   "metadata": {},
   "source": [
    "## Enlaces (Links)\n",
    "\n",
    "En general, las direcciones URL incluidas en el texto se transforman directamente en enlaces activos. Si se quiere definir un enlace de forma explícita:\n",
    "\n",
    "<http://www.gtea.unican.es>  <correo@unican.es>\n",
    "\n",
    "Salida:\n",
    "\n",
    "http://www.gtea.unican.es\n",
    "\n",
    "correo@unican.es\n",
    "\n",
    "Si se quiere definir un texto diferente como referencia:\n",
    "\n",
    "[Texto a visualizar](http://www.gtea.unican.es)\n",
    "\n",
    "salida:\n",
    "\n",
    "Texto a visualizar\n",
    "\n",
    "Es posible también añadir un título *title* que se muestra al pasar el cursor sobre el texto a visualizar:\n",
    "\n",
    "[Texto a visualizar](http://www.gtea.unican.es \"Título a mostrar\")\n",
    "\n",
    "salida:\n",
    "\n",
    "Texto a visualizar"
   ]
  },
  {
   "cell_type": "markdown",
   "metadata": {},
   "source": [
    "## Enlaces a referencias (Reference Links)\n",
    "\n",
    "Los enlaces pueden incluirse también mediante referencias numeradas al estilo de las utilizadas en las publicaciones científicas.\n",
    "\n",
    "En un lugar de Cantabria es posible encontrar a la [UC][1]. Dentro de la UC es posible encontrar al grupo de investigación [GTEA][2].\n",
    "\n",
    "   [1]: http://www.unican.es \"Universidad de Cantabria\"\n",
    "   [2]: http://www.gtea.unican.es \"Grupo de Tecnología Electro-energética Avanzada\"\n",
    "\n",
    "\n",
    "Salida:\n",
    "\n",
    "Es posible definir este tipo de enlaces de otra forma. \n",
    "\n",
    "Se pueden utilizar también referencias [shortcut][], que se enlazan \"shortcut\" al enlace denominado \"[shortcut]\" en el párrafo siguiente.\n",
    "\n",
    "[shortcut]: http://www.unican.es"
   ]
  },
  {
   "cell_type": "markdown",
   "metadata": {},
   "source": [
    "## Formateo básico de texto\n",
    "\n",
    "Es posible enfatizar el texto utilizando * o _ \n",
    "\n",
    "*texto en cursiva* y _texto en cursiva_\n",
    "\n",
    "**texto en negrita**  and __texto en negrita__\n",
    "\n",
    "***texto en cursiva y negrita***  and ___texto en cursiva y negrita___\n",
    "\n",
    "\n",
    "Se puede tachar texto utilizando HTML <s>texto tachado</s>\n",
    "\n",
    "Un salto de línea al final de una línea genera un \"line break\".\n",
    "\n",
    "Dos saltos de línea consecutivos genera un nuevo párrafo.\n",
    "\n",
    "Se puede utilizar el carácter > al inicio de una línea para incluir citas literales.\n",
    "\n",
    "> Texto de ejemplo\n",
    "\n",
    "También es posible incluir texto literal sin ninguna interpretación de código.\n",
    "\n",
    "`Si se incluye texto entre dos tildes se mostrará sin interpretación. Por ejemplo <b>HTML</b> Se mostrará como texto. Es una forma útil de mostrar código fuente, código HTML o Markdown. <b>Esto no se mostrará como HTML</b>.` \n",
    "\n",
    "\n"
   ]
  },
  {
   "cell_type": "markdown",
   "metadata": {},
   "source": [
    "## Listas\n",
    "\n",
    "### Listas no ordenadas\n",
    "\n",
    "* Utiliza asteriscos * para listas no ordenadas\n",
    "* otro elemento de la lista\n",
    "+ también se puede utilizar el signo +.\n",
    "- o el menos -.\n",
    "\n",
    "### Listas ordenadas\n",
    "\n",
    "1. Lista ordenada con números.\n",
    "+  Un signo + se mostrará aquí como 2.\n",
    "*  Y el asterisco como 3.\n",
    "7. Cualquier número, +, -, o * también servirá.\n",
    "    * Utilizar cuatro espacios o un tab para sublistas.\n",
    "        1. Y así para subsublistas."
   ]
  },
  {
   "cell_type": "markdown",
   "metadata": {},
   "source": [
    "Tablas\n",
    "\n",
    "Se pueden generar tablas utilizando linea vertical y símbolos menos incluso con formato:\n",
    "\n",
    "  Encabezado primera columna  | Encabezado segunda columna\n",
    "  ------------- | -------------\n",
    "  contenido 1,1  | contenido 1,2\n",
    "  *contenido 2,1*  | **contenido 2,2**"
   ]
  },
  {
   "cell_type": "markdown",
   "metadata": {},
   "source": [
    "Se puede utilizar también código HTML\n",
    "\n",
    "Encabezado\n",
    "\n",
    "Incluir 1 o más símbolos menos o símbolos igual (--- o ===) debajo del título.\n",
    "\n",
    "Un gran encabezado\n",
    "==================\n",
    "\n",
    "Un encabezado de segundo nivel\n",
    "------------------\n",
    "\n",
    "Para incluir una imagen colocar un símbolo \"!\" al inicio de un enlace:\n",
    "\n",
    "`![alternate text](https://sourceforge.net/images/icon_linux.gif)`\n",
    "\n",
    "El enlace mostrará un \"texto alternativo\" si no puede cargar la imagen."
   ]
  },
  {
   "cell_type": "markdown",
   "metadata": {},
   "source": [
    "## Video embebidos\n",
    "\n",
    "Para incrustar un video YouTube utilizar la macro `embed` (solo soporta YouTube):\n",
    "\n",
    "`[[embed url=http://www.youtube.com/watch?v=6YbBmqUnoQM]]`\n"
   ]
  },
  {
   "cell_type": "markdown",
   "metadata": {
    "collapsed": true
   },
   "source": [
    "## html\n",
    "\n",
    "La documentación markdown permite también utilizar algunas etiquetas HTML.\n",
    "\n",
    "<b>texto en negrita</b>\n",
    "\n",
    "[TOC]\n",
    "\n",
    "# Section 1\n",
    "## Sub-section 1\n",
    "# Section 2\n",
    "\n",
    "\n",
    "Es posible también resaltar texto Python\n",
    "\n",
    "    :::python\n",
    "    import abc\n",
    "\n",
    "\n",
    "    #!/usr/bin/python\n",
    "    import abc\n",
    "\n",
    "\n",
    "<a href=\"#\">My code</a>"
   ]
  },
  {
   "cell_type": "markdown",
   "metadata": {
    "collapsed": true
   },
   "source": [
    "Muchas gracias a John Gruber y Aaron Swartz por crear **Markdown**.\n",
    "\n",
    "Esta página está basada en algunos ejemplos creados por Greg Schueler, greg@vario.us"
   ]
  }
 ],
 "metadata": {
  "kernelspec": {
   "display_name": "Python 2",
   "language": "python",
   "name": "python2"
  },
  "language_info": {
   "codemirror_mode": {
    "name": "ipython",
    "version": 2
   },
   "file_extension": ".py",
   "mimetype": "text/x-python",
   "name": "python",
   "nbconvert_exporter": "python",
   "pygments_lexer": "ipython2",
   "version": "2.7.11"
  }
 },
 "nbformat": 4,
 "nbformat_minor": 0
}
