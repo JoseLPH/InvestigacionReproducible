{
 "cells": [
  {
   "cell_type": "markdown",
   "metadata": {},
   "source": [
    "# JSON"
   ]
  },
  {
   "cell_type": "markdown",
   "metadata": {},
   "source": [
    "**JSON** es el acrónimo de *JavaScript Object Notation* y hace referencia a un formato de texto orientado hacia el intercambio de datos. Se considera una alternativa al formato **XML**. La definición completa está basada en la norma ECMA-262, aunque frecuentemente se implementa únicamente un subconjunto de la misma.\n",
    "A medida que se ha ido extendiendo, han aparecido APIs o parsers para casi todos los lenguajes de programación. En este capítulo se revisa la implementación utilizando **python**."
   ]
  },
  {
   "cell_type": "code",
   "execution_count": 2,
   "metadata": {
    "collapsed": true
   },
   "outputs": [],
   "source": [
    "import json\n",
    "import urllib"
   ]
  },
  {
   "cell_type": "code",
   "execution_count": 9,
   "metadata": {
    "collapsed": true
   },
   "outputs": [],
   "source": [
    "url = \"http://maps.googleapis.com/maps/api/geocode/json?address=Universidad de Cantabria, Santander\""
   ]
  },
  {
   "cell_type": "code",
   "execution_count": 10,
   "metadata": {
    "collapsed": true
   },
   "outputs": [],
   "source": [
    "response = urllib.urlopen(url)\n",
    "data = json.loads(response.read())"
   ]
  },
  {
   "cell_type": "code",
   "execution_count": 11,
   "metadata": {
    "collapsed": false
   },
   "outputs": [
    {
     "name": "stdout",
     "output_type": "stream",
     "text": [
      "{u'status': u'OK', u'results': [{u'geometry': {u'location': {u'lat': 43.471405, u'lng': -3.804062}, u'viewport': {u'northeast': {u'lat': 43.47275398029149, u'lng': -3.802713019708498}, u'southwest': {u'lat': 43.47005601970849, u'lng': -3.805410980291502}}, u'location_type': u'APPROXIMATE'}, u'address_components': [{u'long_name': u'Santander', u'types': [u'locality', u'political'], u'short_name': u'Santander'}, {u'long_name': u'Cantabria', u'types': [u'administrative_area_level_2', u'political'], u'short_name': u'S'}, {u'long_name': u'Spain', u'types': [u'country', u'political'], u'short_name': u'ES'}, {u'long_name': u'39005', u'types': [u'postal_code'], u'short_name': u'39005'}], u'place_id': u'ChIJz1mfL7lLSQ0Rczt72xAnk2w', u'formatted_address': u'Av los Castros s/n, 39005 Santander, Cantabria, Spain', u'types': [u'establishment', u'point_of_interest', u'university']}]}\n"
     ]
    }
   ],
   "source": [
    "print( data)"
   ]
  },
  {
   "cell_type": "raw",
   "metadata": {},
   "source": [
    "{u'status': u'OK', \n",
    " u'results': [\n",
    "        {u'geometry': {\n",
    "                u'location': {\n",
    "                    u'lat': 43.471405, \n",
    "                    u'lng': -3.804062}, \n",
    "                u'viewport': {\n",
    "                    u'northeast': {\n",
    "                        u'lat': 43.47275398029149, \n",
    "                        u'lng': -3.802713019708498}, \n",
    "                    u'southwest': {\n",
    "                        u'lat': 43.47005601970849, \n",
    "                        u'lng': -3.805410980291502}}, \n",
    "                u'location_type': u'APPROXIMATE'}, \n",
    "         u'address_components': [\n",
    "                {u'long_name': u'Santander', \n",
    "                 u'types': [\n",
    "                        u'locality', \n",
    "                        u'political'], \n",
    "                 u'short_name': u'Santander'}, \n",
    "                {u'long_name': u'Cantabria', \n",
    "                 u'types': [\n",
    "                        u'administrative_area_level_2', \n",
    "                        u'political'], \n",
    "                 u'short_name': u'S'}, \n",
    "                {u'long_name': u'Spain', \n",
    "                 u'types': [\n",
    "                        u'country', \n",
    "                        u'political'], \n",
    "                 u'short_name': u'ES'}, \n",
    "                {u'long_name': u'39005', \n",
    "                 u'types': [\n",
    "                        u'postal_code'], \n",
    "                 u'short_name': u'39005'}], \n",
    "         u'place_id': u'ChIJz1mfL7lLSQ0Rczt72xAnk2w', \n",
    "         u'formatted_address': u'Av los Castros s/n, 39005 Santander, Cantabria, Spain', \n",
    "         u'types': [\n",
    "                u'establishment', \n",
    "                u'point_of_interest', \n",
    "                u'university']\n",
    "        }\n",
    "    ]\n",
    "}\n"
   ]
  },
  {
   "cell_type": "code",
   "execution_count": 7,
   "metadata": {
    "collapsed": false
   },
   "outputs": [
    {
     "name": "stdout",
     "output_type": "stream",
     "text": [
      "OK\n"
     ]
    }
   ],
   "source": [
    "print( data['status'])"
   ]
  },
  {
   "cell_type": "code",
   "execution_count": 18,
   "metadata": {
    "collapsed": false
   },
   "outputs": [
    {
     "name": "stdout",
     "output_type": "stream",
     "text": [
      "43.471405\n"
     ]
    }
   ],
   "source": [
    "print( data['results'][0]['geometry']['location']['lat'])"
   ]
  },
  {
   "cell_type": "code",
   "execution_count": 19,
   "metadata": {
    "collapsed": false
   },
   "outputs": [
    {
     "name": "stdout",
     "output_type": "stream",
     "text": [
      "-3.804062\n"
     ]
    }
   ],
   "source": [
    "print( data['results'][0]['geometry']['location']['lng'])"
   ]
  },
  {
   "cell_type": "code",
   "execution_count": null,
   "metadata": {
    "collapsed": true
   },
   "outputs": [],
   "source": []
  }
 ],
 "metadata": {
  "anaconda-cloud": {},
  "kernelspec": {
   "display_name": "Python 2",
   "language": "python",
   "name": "python2"
  },
  "language_info": {
   "codemirror_mode": {
    "name": "ipython",
    "version": 2
   },
   "file_extension": ".py",
   "mimetype": "text/x-python",
   "name": "python",
   "nbconvert_exporter": "python",
   "pygments_lexer": "ipython2",
   "version": "2.7.11"
  }
 },
 "nbformat": 4,
 "nbformat_minor": 1
}
