{
 "cells": [
  {
   "cell_type": "markdown",
   "metadata": {},
   "source": [
    "# Generación de documentos"
   ]
  },
  {
   "cell_type": "markdown",
   "metadata": {},
   "source": [
    "## Windows. Utilización de ficheros .bat"
   ]
  },
  {
   "cell_type": "markdown",
   "metadata": {},
   "source": [
    "## Windows / Linux. Utilización de ficheros makefile"
   ]
  },
  {
   "cell_type": "markdown",
   "metadata": {},
   "source": [
    "CLEANFILES=$(.aux=.tex=.out=.log=.pdf)\n",
    "\n",
    "latexfiles:\n",
    "\n",
    "\tipython nbconvert --to latex introduccion.ipynb\n",
    "    ipython nbconvert --to latex git.ipynb\n",
    "    ipython nbconvert --to latex accesodatos.ipynb\n",
    "    ipython nbconvert --to latex otros_lenguajes.ipynb\n",
    "    ipython nbconvert --to latex ejercicio_dados.ipynb\n",
    "    \n",
    "buildpdf: latexfiles\n",
    "\n",
    "\tpdflatex introduccion.tex\n",
    "    pdflatex git.tex\n",
    "    pdflatex accesodatos.tex\n",
    "    pdflatex otros_lenguajes.tex\n",
    "    pdflatex ejercicio_dados.tex\n",
    "    octave octave_1.m\n",
    "    pdflatex ./matweave/myexample\t\t\n",
    "    pdfjoin introduccion.pdf git.pdf accesodatos.pdf otros_lenguajes.pdf ./matweave/myexample.pdf ejercicio_dados.pdf \n",
    "    evince ejercicio_dados-joined.pdf\n",
    "    \n",
    "clean:\n",
    "\n",
    "    rm -f *.aux\n",
    "    rm -f *.tex\n",
    "    rm -f *.out\n",
    "    rm -f *.log\n",
    "    rm -f *.pdf\n"
   ]
  },
  {
   "cell_type": "code",
   "execution_count": null,
   "metadata": {
    "collapsed": true
   },
   "outputs": [],
   "source": []
  }
 ],
 "metadata": {
  "kernelspec": {
   "display_name": "Python 2",
   "language": "python",
   "name": "python2"
  },
  "language_info": {
   "codemirror_mode": {
    "name": "ipython",
    "version": 2
   },
   "file_extension": ".py",
   "mimetype": "text/x-python",
   "name": "python",
   "nbconvert_exporter": "python",
   "pygments_lexer": "ipython2",
   "version": "2.7.11"
  }
 },
 "nbformat": 4,
 "nbformat_minor": 0
}
