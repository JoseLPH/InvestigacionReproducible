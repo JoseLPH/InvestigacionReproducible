{
 "cells": [
  {
   "cell_type": "markdown",
   "metadata": {},
   "source": [
    "# Interacción con otros lenguajes"
   ]
  },
  {
   "cell_type": "markdown",
   "metadata": {},
   "source": [
    "## Introducción"
   ]
  },
  {
   "cell_type": "markdown",
   "metadata": {},
   "source": [
    "Uno de los aspectos positivos de jupyter es su capacidad para utilizar o interaccionar con otros kernels. Actualmente están disponibles kernels para R, Julia y Octave."
   ]
  },
  {
   "cell_type": "code",
   "execution_count": 1,
   "metadata": {
    "collapsed": false
   },
   "outputs": [],
   "source": [
    "%load_ext oct2py.ipython"
   ]
  },
  {
   "cell_type": "code",
   "execution_count": 7,
   "metadata": {
    "collapsed": false,
    "scrolled": true
   },
   "outputs": [
    {
     "data": {
      "text/plain": []
     },
     "metadata": {},
     "output_type": "display_data"
    }
   ],
   "source": [
    "x = %octave linspace(0,2*pi,128);\n",
    "y = sum(x)"
   ]
  },
  {
   "cell_type": "code",
   "execution_count": 9,
   "metadata": {
    "collapsed": false
   },
   "outputs": [
    {
     "name": "stdout",
     "output_type": "stream",
     "text": [
      "[ 0.          0.0494739   0.0989478   0.1484217   0.1978956   0.2473695\n",
      "  0.2968434   0.3463173   0.3957912   0.4452651   0.494739    0.5442129\n",
      "  0.5936868   0.6431607   0.6926346   0.7421085   0.7915824   0.8410563\n",
      "  0.8905302   0.9400041   0.989478    1.0389519   1.0884258   1.1378997\n",
      "  1.1873736   1.2368475   1.2863214   1.3357953   1.3852692   1.4347431\n",
      "  1.484217    1.5336909   1.5831648   1.6326387   1.6821126   1.7315865\n",
      "  1.7810604   1.8305343   1.8800082   1.9294821   1.978956    2.0284299\n",
      "  2.0779038   2.1273777   2.1768516   2.2263255   2.2757994   2.3252733\n",
      "  2.3747472   2.4242211   2.473695    2.5231689   2.5726428   2.6221167\n",
      "  2.6715906   2.7210645   2.7705384   2.8200123   2.8694862   2.9189601\n",
      "  2.968434    3.0179079   3.0673818   3.1168557   3.1663296   3.2158035\n",
      "  3.2652774   3.3147513   3.3642252   3.4136991   3.463173    3.5126469\n",
      "  3.5621208   3.6115947   3.6610686   3.7105425   3.7600164   3.8094903\n",
      "  3.8589642   3.9084381   3.957912    4.0073859   4.0568598   4.1063337\n",
      "  4.1558076   4.2052815   4.2547554   4.3042293   4.3537032   4.40317711\n",
      "  4.45265101  4.50212491  4.55159881  4.60107271  4.65054661  4.70002051\n",
      "  4.74949441  4.79896831  4.84844221  4.89791611  4.94739001  4.99686391\n",
      "  5.04633781  5.09581171  5.14528561  5.19475951  5.24423341  5.29370731\n",
      "  5.34318121  5.39265511  5.44212901  5.49160291  5.54107681  5.59055071\n",
      "  5.64002461  5.68949851  5.73897241  5.78844631  5.83792021  5.88739411\n",
      "  5.93686801  5.98634191  6.03581581  6.08528971  6.13476361  6.18423751\n",
      "  6.23371141  6.28318531]\n"
     ]
    }
   ],
   "source": [
    "print(y)"
   ]
  },
  {
   "cell_type": "code",
   "execution_count": null,
   "metadata": {
    "collapsed": true
   },
   "outputs": [],
   "source": []
  }
 ],
 "metadata": {
  "kernelspec": {
   "display_name": "Python 3",
   "language": "python",
   "name": "python3"
  },
  "language_info": {
   "codemirror_mode": {
    "name": "ipython",
    "version": 3
   },
   "file_extension": ".py",
   "mimetype": "text/x-python",
   "name": "python",
   "nbconvert_exporter": "python",
   "pygments_lexer": "ipython3",
   "version": "3.5.1"
  }
 },
 "nbformat": 4,
 "nbformat_minor": 0
}
